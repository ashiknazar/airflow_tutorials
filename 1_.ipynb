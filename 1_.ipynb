{
 "cells": [
  {
   "cell_type": "markdown",
   "metadata": {},
   "source": [
    "### air introduction \n"
   ]
  },
  {
   "cell_type": "markdown",
   "metadata": {},
   "source": [
    "- apache airflow is open source tool which we can use to create ,schedule and monitor many kinds of workflow.\n"
   ]
  },
  {
   "cell_type": "markdown",
   "metadata": {},
   "source": [
    "___\n"
   ]
  },
  {
   "cell_type": "markdown",
   "metadata": {},
   "source": [
    "### run airflow in python environment"
   ]
  },
  {
   "cell_type": "markdown",
   "metadata": {},
   "source": [
    "- pip install airflow"
   ]
  },
  {
   "cell_type": "markdown",
   "metadata": {},
   "source": [
    "- inititalize database for airflow\n",
    "  - before that we have to indicate airflow home directory- > by default it will create airflow in home directory\n",
    "\n",
    "  - but we want every thing in home directory\n",
    "  - export AIRFLOW_HOME=.\n",
    "  - initalize database\n",
    "    - airflow db init\n",
    "  - start airflow webserver\n",
    "    - airflow webserver -p 8080\n",
    "  - stop airflow webserver and create one user \n",
    "     - airflow users create --help \n",
    "     - airflow users create --username admin --firstname firstname --lastname lastname --role Admin --email admin@domain.com \n",
    "       - set password\n",
    "  - start airflow webserver\n",
    "      - login as user\n",
    "      - there wont be any schedule running\n",
    "___\n"
   ]
  },
  {
   "cell_type": "markdown",
   "metadata": {},
   "source": [
    "___"
   ]
  },
  {
   "cell_type": "markdown",
   "metadata": {},
   "source": [
    "- export AIRFLOW_HOME=.\n",
    "- airflow scheduler\n",
    "- lets turn on one example by clicking the button\n",
    "\n"
   ]
  },
  {
   "cell_type": "markdown",
   "metadata": {},
   "source": [
    "![](imgs/dag_on.png)"
   ]
  },
  {
   "cell_type": "markdown",
   "metadata": {},
   "source": [
    " - press refresh each time and view changes"
   ]
  },
  {
   "cell_type": "markdown",
   "metadata": {},
   "source": []
  }
 ],
 "metadata": {
  "language_info": {
   "name": "python"
  }
 },
 "nbformat": 4,
 "nbformat_minor": 2
}
