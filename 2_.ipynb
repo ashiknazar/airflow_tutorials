{
 "cells": [
  {
   "cell_type": "markdown",
   "metadata": {},
   "source": [
    "### run in docker"
   ]
  },
  {
   "cell_type": "markdown",
   "metadata": {},
   "source": [
    "- create folder 'airflow_docker' in vscode "
   ]
  },
  {
   "cell_type": "markdown",
   "metadata": {},
   "source": [
    "- install docker ,docker compose"
   ]
  },
  {
   "cell_type": "markdown",
   "metadata": {},
   "source": [
    "- check `docker --version` and `docker-compose --version`\n",
    "- "
   ]
  },
  {
   "cell_type": "markdown",
   "metadata": {},
   "source": [
    "- go to airflow page and download `docker-compose.yaml` file\n",
    "   - curl -Lf0 'https://airflow.apache.org....'\n",
    "- docker compose file will be downloaded\n",
    "   -   AIRFLOW_CORE_EXECUTOR:CeleryExecutor ( by default)\n",
    "   - change it to `LocalExecutor`\n",
    "   - and dont need AIRFLOW_CELERY_RESULT_BACKEND,AIRFLOW_CELERY_BROCKER_URL\n",
    "   - redis is also not necessary\n",
    "       - delete its dependency and definition\n",
    "   - remove celery worker,flower\n",
    "   \n"
   ]
  },
  {
   "cell_type": "markdown",
   "metadata": {},
   "source": [
    "- need to crreate folders for DAGS,logs,plugins"
   ]
  },
  {
   "cell_type": "markdown",
   "metadata": {},
   "source": [
    "- docker-compose up airflow-init\n",
    "- code 0 indicates databse initialization is complete(airflow as username and pass)\n",
    "\n"
   ]
  },
  {
   "cell_type": "markdown",
   "metadata": {},
   "source": [
    "- docker-compose up -d    (for detached mode)"
   ]
  },
  {
   "cell_type": "markdown",
   "metadata": {},
   "source": []
  }
 ],
 "metadata": {
  "language_info": {
   "name": "python"
  }
 },
 "nbformat": 4,
 "nbformat_minor": 2
}
